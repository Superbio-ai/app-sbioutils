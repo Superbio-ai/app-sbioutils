{
 "cells": [
  {
   "cell_type": "code",
   "execution_count": null,
   "id": "0d000b46",
   "metadata": {},
   "outputs": [],
   "source": [
    "#run this cell if not installed yet\n",
    "!conda install git\n",
    "!pip install git+https://github.com/Superbio-ai/app-sbioutils"
   ]
  },
  {
   "cell_type": "code",
   "execution_count": null,
   "id": "723b869c",
   "metadata": {},
   "outputs": [],
   "source": [
    "from sbioapputils.app_runner.yaml_utils import define_settings_from_yaml\n",
    "workflow_loc = 'D:/git/appstore/eeg_gan_app/training.yml'\n",
    "define_settings_from_yaml(workflow_loc)"
   ]
  },
  {
   "cell_type": "code",
   "execution_count": 5,
   "id": "e350dd98",
   "metadata": {},
   "outputs": [
    {
     "name": "stdout",
     "output_type": "stream",
     "text": [
      "Generating payload from output config\n",
      "Results settings:\n",
      "{'images': [[{'file': 'outputs/roc_curve_training.png', 'title': 'Receiver Operating Characteristic (Training)'}], [{'file': 'outputs/pr_curve_training.png', 'title': 'Precision-Recall Curve (Training)'}]], 'tables': [[{'file': 'outputs/confusion_training.csv', 'title': 'Confusion Matrix for Training Data'}], [{'file': 'outputs/predictions_holdback.csv', 'title': 'Predictions (On Holdback Data)'}, {'file': 'outputs/predictions_training.csv', 'title': 'Fitted Values (On Training Data)'}], [{'file': 'outputs/metrics_training.csv', 'title': 'Model Performance on Training Data'}]], 'download': [{'file': 'outputs/predictions_holdback.csv', 'title': 'Predictions (On Holdback Data)'}]}\n",
      "Additional artifacts uploaded, but not displayed in visual results:\n",
      "['outputs/model.h5']\n"
     ]
    }
   ],
   "source": [
    "#this function depends on carousels being defined in the yaml file\n",
    "from sbioapputils.app_runner.yaml_utils import payload_from_yaml\n",
    "workflow_loc = 'D:/git/app-sbioutils/templates/workflow2.yml'\n",
    "results_for_payload, additional_artifacts = payload_from_yaml(workflow_loc, config_only = True)\n",
    "#if do not set config_only = True and results are not defined in yaml, then will attempt to read in files from the working directory\n",
    "print(\"Results settings:\")\n",
    "print(results_for_payload)\n",
    "print(\"Additional artifacts uploaded, but not displayed in visual results:\")\n",
    "print(additional_artifacts)"
   ]
  }
 ],
 "metadata": {
  "kernelspec": {
   "display_name": "Python 3 (ipykernel)",
   "language": "python",
   "name": "python3"
  },
  "language_info": {
   "codemirror_mode": {
    "name": "ipython",
    "version": 3
   },
   "file_extension": ".py",
   "mimetype": "text/x-python",
   "name": "python",
   "nbconvert_exporter": "python",
   "pygments_lexer": "ipython3",
   "version": "3.8.16"
  }
 },
 "nbformat": 4,
 "nbformat_minor": 5
}
