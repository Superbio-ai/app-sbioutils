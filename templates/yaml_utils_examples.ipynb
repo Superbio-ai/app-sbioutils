{
 "cells": [
  {
   "cell_type": "code",
   "execution_count": null,
   "id": "2fbbf0ab",
   "metadata": {},
   "outputs": [],
   "source": [
    "#run this cell if not installed yet\n",
    "!conda install git\n",
    "!pip install git+https://github.com/Superbio-ai/app-sbioutils"
   ]
  },
  {
   "cell_type": "code",
   "execution_count": 1,
   "id": "723b869c",
   "metadata": {},
   "outputs": [
    {
     "data": {
      "text/plain": [
       "'{\"resultsConfig\": {\"description\": \"No description provided\"}, \"settingsConfig\": {\"disabledFields\": [\"batch_effect\"], \"inputsRequireFiles\": [\"batch_effect\"], \"parameters\": {\"header\": \"Set Parameters\", \"inputs\": [{\"name\": \"top_n\", \"title\": \"top_n\", \"tooltip\": \"Filter to include only the top n genes by variability\", \"type\": \"integer\", \"default_value\": 1500, \"input_type\": \"slider\", \"increment\": 100, \"max_value\": 5000, \"max_value_included\": true, \"min_value\": 100, \"min_value_inclusive\": true}, {\"name\": \"epochs\", \"title\": \"epochs\", \"tooltip\": \"Number of epochs to train variational autoencoder\", \"type\": \"integer\", \"default_value\": 300, \"input_type\": \"slider\", \"increment\": 50, \"max_value\": 1000, \"max_value_included\": true, \"min_value\": 50, \"min_value_inclusive\": true}, {\"name\": \"batch_effect\", \"title\": \"batch_effect\", \"tooltip\": \"Target column to control for batch effect\", \"type\": \"str\", \"default_value\": {\"label\": \"None\", \"value\": \"None\"}, \"input_type\": \"dropdown\", \"options\": []}, {\"name\": \"n_latent\", \"title\": \"n_latent\", \"tooltip\": \"Number of latent variables (leave as default if in doubt)\", \"type\": \"integer\", \"default_value\": 8, \"input_type\": \"slider\", \"increment\": 1, \"max_value\": 32, \"max_value_included\": true, \"min_value\": 4, \"min_value_inclusive\": true}, {\"name\": \"n_hidden\", \"title\": \"n_hidden\", \"tooltip\": \"Number of nodes per layer (leave as default if in doubt)\", \"type\": \"integer\", \"default_value\": 128, \"input_type\": \"slider\", \"increment\": 32, \"max_value\": 512, \"max_value_included\": true, \"min_value\": 32, \"min_value_inclusive\": true}, {\"name\": \"n_layers\", \"title\": \"n_layers\", \"tooltip\": \"Number of hidden layers (leave as default if in doubt)\", \"type\": \"integer\", \"default_value\": 1, \"input_type\": \"slider\", \"increment\": 1, \"max_value\": 3, \"max_value_included\": true, \"min_value\": 1, \"min_value_inclusive\": true}, {\"name\": \"dropout_rate\", \"title\": \"dropout_rate\", \"tooltip\": \"Dropout rate (leave as default if in doubt)\", \"type\": \"float\", \"default_value\": 0.1, \"input_type\": \"slider\", \"increment\": 0.1, \"max_value\": 0.5, \"max_value_included\": true, \"min_value\": 0.0, \"min_value_inclusive\": true}, {\"default_value\": \"ldvae.yml\", \"hidden\": true, \"input_type\": \"user_input\", \"name\": \"workflow_name\", \"title\": \"workflow_name\", \"tooltip\": \"workflow_name\", \"type\": \"text\"}]}, \"uploadOptions\": [{\"allowedFormats\": {\"fileExtensions\": [\"h5ad\", \"h5\"], \"title\": \".h5ad or .h5\", \"value\": \"\"}, \"dataStructure\": \"Data should be in .h5ad or .h5 format\", \"disabled\": false, \"name\": \"train_path\", \"supportsPreview\": true, \"title\": \"Single Cell RNA-Seq Data\", \"uploadTypes\": [{\"title\": \"Local\", \"type\": \"local\"}, {\"title\": \"Remote\", \"type\": \"remote\"}], \"demoDataDetails\": {\"description\": \"Combined single cell and single nuclei RNA-Seq data of 485K cardiac cells with annotations. Dataset was filtered down randomly to 20k cells\", \"filePath\": \"apps/scvi_tools/resources/heart_atlas.h5ad\", \"fileName\": \"heart_atlas.h5ad\", \"fileSource\": [{\"title\": \"Data Source\", \"url\": \"https://www.heartcellatlas.org/#DataSources\"}]}}]}}'"
      ]
     },
     "execution_count": 1,
     "metadata": {},
     "output_type": "execute_result"
    }
   ],
   "source": [
    "from sbioapputils.app_runner.yaml_utils import define_settings_from_yaml\n",
    "workflow_loc = 'D:/git/appstore/scvi_v14_apps/ldvae.yml'\n",
    "define_settings_from_yaml(workflow_loc)"
   ]
  },
  {
   "cell_type": "code",
   "execution_count": 5,
   "id": "e350dd98",
   "metadata": {},
   "outputs": [
    {
     "name": "stdout",
     "output_type": "stream",
     "text": [
      "Generating payload from output config\n",
      "Results settings:\n",
      "{'images': [[{'file': 'outputs/roc_curve_training.png', 'title': 'Receiver Operating Characteristic (Training)'}], [{'file': 'outputs/pr_curve_training.png', 'title': 'Precision-Recall Curve (Training)'}]], 'tables': [[{'file': 'outputs/confusion_training.csv', 'title': 'Confusion Matrix for Training Data'}], [{'file': 'outputs/predictions_holdback.csv', 'title': 'Predictions (On Holdback Data)'}, {'file': 'outputs/predictions_training.csv', 'title': 'Fitted Values (On Training Data)'}], [{'file': 'outputs/metrics_training.csv', 'title': 'Model Performance on Training Data'}]], 'download': [{'file': 'outputs/predictions_holdback.csv', 'title': 'Predictions (On Holdback Data)'}]}\n",
      "Additional artifacts uploaded, but not displayed in visual results:\n",
      "['outputs/model.h5']\n"
     ]
    }
   ],
   "source": [
    "#this function depends on carousels being defined in the yaml file\n",
    "from sbioapputils.app_runner.yaml_utils import payload_from_yaml\n",
    "workflow_loc = 'D:/git/app-sbioutils/templates/workflow2.yml'\n",
    "results_for_payload, additional_artifacts = payload_from_yaml(workflow_loc, config_only = True)\n",
    "#if do not set config_only = True and results are not defined in yaml, then will attempt to read in files from the working directory\n",
    "print(\"Results settings:\")\n",
    "print(results_for_payload)\n",
    "print(\"Additional artifacts uploaded, but not displayed in visual results:\")\n",
    "print(additional_artifacts)"
   ]
  }
 ],
 "metadata": {
  "kernelspec": {
   "display_name": "Python 3 (ipykernel)",
   "language": "python",
   "name": "python3"
  },
  "language_info": {
   "codemirror_mode": {
    "name": "ipython",
    "version": 3
   },
   "file_extension": ".py",
   "mimetype": "text/x-python",
   "name": "python",
   "nbconvert_exporter": "python",
   "pygments_lexer": "ipython3",
   "version": "3.9.17"
  }
 },
 "nbformat": 4,
 "nbformat_minor": 5
}
