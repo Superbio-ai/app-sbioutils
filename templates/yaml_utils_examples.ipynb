{
 "cells": [
  {
   "cell_type": "code",
   "execution_count": 5,
   "id": "0d000b46",
   "metadata": {},
   "outputs": [
    {
     "name": "stdout",
     "output_type": "stream",
     "text": [
      "Collecting git+https://github.com/Superbio-ai/app-sbioutils\n",
      "  Cloning https://github.com/Superbio-ai/app-sbioutils to c:\\users\\sionp\\appdata\\local\\temp\\pip-req-build-kcvwh9dh\n",
      "  Resolved https://github.com/Superbio-ai/app-sbioutils to commit 012ed0b1124f31230f0530d70e0c99679c7a3abb\n",
      "  Installing build dependencies: started\n",
      "  Installing build dependencies: finished with status 'done'\n",
      "  Getting requirements to build wheel: started\n",
      "  Getting requirements to build wheel: finished with status 'done'\n",
      "  Installing backend dependencies: started\n",
      "  Installing backend dependencies: finished with status 'done'\n",
      "  Preparing metadata (pyproject.toml): started\n",
      "  Preparing metadata (pyproject.toml): finished with status 'done'\n",
      "Requirement already satisfied: pycodestyle in s:\\programdata\\anaconda3\\envs\\scvi_destvi_x\\lib\\site-packages (from sbioapputils==1.0.20) (2.8.0)\n",
      "Requirement already satisfied: boto3==1.21.27 in c:\\users\\sionp\\appdata\\roaming\\python\\python38\\site-packages (from sbioapputils==1.0.20) (1.21.27)\n",
      "Requirement already satisfied: requests==2.22.0 in c:\\users\\sionp\\appdata\\roaming\\python\\python38\\site-packages (from sbioapputils==1.0.20) (2.22.0)\n",
      "Requirement already satisfied: pyflakes in s:\\programdata\\anaconda3\\envs\\scvi_destvi_x\\lib\\site-packages (from sbioapputils==1.0.20) (2.4.0)\n",
      "Requirement already satisfied: file-process in c:\\users\\sionp\\appdata\\roaming\\python\\python38\\site-packages (from sbioapputils==1.0.20) (1.2.5)\n",
      "Requirement already satisfied: jmespath<2.0.0,>=0.7.1 in c:\\users\\sionp\\appdata\\roaming\\python\\python38\\site-packages (from boto3==1.21.27->sbioapputils==1.0.20) (1.0.1)\n",
      "Requirement already satisfied: s3transfer<0.6.0,>=0.5.0 in c:\\users\\sionp\\appdata\\roaming\\python\\python38\\site-packages (from boto3==1.21.27->sbioapputils==1.0.20) (0.5.2)\n",
      "Requirement already satisfied: botocore<1.25.0,>=1.24.27 in c:\\users\\sionp\\appdata\\roaming\\python\\python38\\site-packages (from boto3==1.21.27->sbioapputils==1.0.20) (1.24.46)\n",
      "Requirement already satisfied: urllib3!=1.25.0,!=1.25.1,<1.26,>=1.21.1 in c:\\users\\sionp\\appdata\\roaming\\python\\python38\\site-packages (from requests==2.22.0->sbioapputils==1.0.20) (1.25.11)\n",
      "Requirement already satisfied: chardet<3.1.0,>=3.0.2 in s:\\programdata\\anaconda3\\envs\\scvi_destvi_x\\lib\\site-packages (from requests==2.22.0->sbioapputils==1.0.20) (3.0.4)\n",
      "Requirement already satisfied: idna<2.9,>=2.5 in c:\\users\\sionp\\appdata\\roaming\\python\\python38\\site-packages (from requests==2.22.0->sbioapputils==1.0.20) (2.8)\n",
      "Requirement already satisfied: certifi>=2017.4.17 in s:\\programdata\\anaconda3\\envs\\scvi_destvi_x\\lib\\site-packages (from requests==2.22.0->sbioapputils==1.0.20) (2023.5.7)\n",
      "Requirement already satisfied: pandas==1.2.5 in s:\\programdata\\anaconda3\\envs\\scvi_destvi_x\\lib\\site-packages (from file-process->sbioapputils==1.0.20) (1.2.5)\n",
      "Requirement already satisfied: numpy==1.21 in s:\\programdata\\anaconda3\\envs\\scvi_destvi_x\\lib\\site-packages (from file-process->sbioapputils==1.0.20) (1.21.0)\n",
      "Requirement already satisfied: scanpy==1.9.1 in c:\\users\\sionp\\appdata\\roaming\\python\\python38\\site-packages (from file-process->sbioapputils==1.0.20) (1.9.1)\n",
      "Requirement already satisfied: anndata==0.8.0 in s:\\programdata\\anaconda3\\envs\\scvi_destvi_x\\lib\\site-packages (from file-process->sbioapputils==1.0.20) (0.8.0)\n",
      "Requirement already satisfied: h5py>=3 in c:\\users\\sionp\\appdata\\roaming\\python\\python38\\site-packages (from anndata==0.8.0->file-process->sbioapputils==1.0.20) (3.4.0)\n",
      "Requirement already satisfied: scipy>1.4 in s:\\programdata\\anaconda3\\envs\\scvi_destvi_x\\lib\\site-packages (from anndata==0.8.0->file-process->sbioapputils==1.0.20) (1.9.3)\n",
      "Requirement already satisfied: packaging>=20 in s:\\programdata\\anaconda3\\envs\\scvi_destvi_x\\lib\\site-packages (from anndata==0.8.0->file-process->sbioapputils==1.0.20) (22.0)\n",
      "Requirement already satisfied: natsort in s:\\programdata\\anaconda3\\envs\\scvi_destvi_x\\lib\\site-packages (from anndata==0.8.0->file-process->sbioapputils==1.0.20) (8.2.0)\n",
      "Requirement already satisfied: pytz>=2017.3 in s:\\programdata\\anaconda3\\envs\\scvi_destvi_x\\lib\\site-packages (from pandas==1.2.5->file-process->sbioapputils==1.0.20) (2022.6)\n",
      "Requirement already satisfied: python-dateutil>=2.7.3 in s:\\programdata\\anaconda3\\envs\\scvi_destvi_x\\lib\\site-packages (from pandas==1.2.5->file-process->sbioapputils==1.0.20) (2.8.2)\n",
      "Requirement already satisfied: umap-learn>=0.3.10 in s:\\programdata\\anaconda3\\envs\\scvi_destvi_x\\lib\\site-packages (from scanpy==1.9.1->file-process->sbioapputils==1.0.20) (0.5.3)\n",
      "Requirement already satisfied: session-info in s:\\programdata\\anaconda3\\envs\\scvi_destvi_x\\lib\\site-packages (from scanpy==1.9.1->file-process->sbioapputils==1.0.20) (1.0.0)\n",
      "Requirement already satisfied: matplotlib>=3.4 in s:\\programdata\\anaconda3\\envs\\scvi_destvi_x\\lib\\site-packages (from scanpy==1.9.1->file-process->sbioapputils==1.0.20) (3.6.2)\n",
      "Requirement already satisfied: numba>=0.41.0 in s:\\programdata\\anaconda3\\envs\\scvi_destvi_x\\lib\\site-packages (from scanpy==1.9.1->file-process->sbioapputils==1.0.20) (0.56.4)\n",
      "Requirement already satisfied: networkx>=2.3 in s:\\programdata\\anaconda3\\envs\\scvi_destvi_x\\lib\\site-packages (from scanpy==1.9.1->file-process->sbioapputils==1.0.20) (2.8.8)\n",
      "Requirement already satisfied: statsmodels>=0.10.0rc2 in s:\\programdata\\anaconda3\\envs\\scvi_destvi_x\\lib\\site-packages (from scanpy==1.9.1->file-process->sbioapputils==1.0.20) (0.13.5)\n",
      "Requirement already satisfied: patsy in s:\\programdata\\anaconda3\\envs\\scvi_destvi_x\\lib\\site-packages (from scanpy==1.9.1->file-process->sbioapputils==1.0.20) (0.5.3)\n",
      "Requirement already satisfied: tqdm in s:\\programdata\\anaconda3\\envs\\scvi_destvi_x\\lib\\site-packages (from scanpy==1.9.1->file-process->sbioapputils==1.0.20) (4.64.1)\n",
      "Requirement already satisfied: joblib in s:\\programdata\\anaconda3\\envs\\scvi_destvi_x\\lib\\site-packages (from scanpy==1.9.1->file-process->sbioapputils==1.0.20) (1.2.0)\n",
      "Requirement already satisfied: scikit-learn>=0.22 in s:\\programdata\\anaconda3\\envs\\scvi_destvi_x\\lib\\site-packages (from scanpy==1.9.1->file-process->sbioapputils==1.0.20) (1.1.3)\n",
      "Requirement already satisfied: seaborn in s:\\programdata\\anaconda3\\envs\\scvi_destvi_x\\lib\\site-packages (from scanpy==1.9.1->file-process->sbioapputils==1.0.20) (0.12.1)\n",
      "Requirement already satisfied: pillow>=6.2.0 in s:\\programdata\\anaconda3\\envs\\scvi_destvi_x\\lib\\site-packages (from matplotlib>=3.4->scanpy==1.9.1->file-process->sbioapputils==1.0.20) (9.3.0)\n",
      "Requirement already satisfied: fonttools>=4.22.0 in s:\\programdata\\anaconda3\\envs\\scvi_destvi_x\\lib\\site-packages (from matplotlib>=3.4->scanpy==1.9.1->file-process->sbioapputils==1.0.20) (4.38.0)\n",
      "Requirement already satisfied: pyparsing>=2.2.1 in s:\\programdata\\anaconda3\\envs\\scvi_destvi_x\\lib\\site-packages (from matplotlib>=3.4->scanpy==1.9.1->file-process->sbioapputils==1.0.20) (3.0.9)\n",
      "Requirement already satisfied: kiwisolver>=1.0.1 in s:\\programdata\\anaconda3\\envs\\scvi_destvi_x\\lib\\site-packages (from matplotlib>=3.4->scanpy==1.9.1->file-process->sbioapputils==1.0.20) (1.4.4)\n",
      "Requirement already satisfied: contourpy>=1.0.1 in s:\\programdata\\anaconda3\\envs\\scvi_destvi_x\\lib\\site-packages (from matplotlib>=3.4->scanpy==1.9.1->file-process->sbioapputils==1.0.20) (1.0.6)\n",
      "Requirement already satisfied: cycler>=0.10 in s:\\programdata\\anaconda3\\envs\\scvi_destvi_x\\lib\\site-packages (from matplotlib>=3.4->scanpy==1.9.1->file-process->sbioapputils==1.0.20) (0.11.0)\n",
      "Requirement already satisfied: importlib-metadata in c:\\users\\sionp\\appdata\\roaming\\python\\python38\\site-packages (from numba>=0.41.0->scanpy==1.9.1->file-process->sbioapputils==1.0.20) (6.0.0)\n",
      "Requirement already satisfied: llvmlite<0.40,>=0.39.0dev0 in c:\\users\\sionp\\appdata\\roaming\\python\\python38\\site-packages (from numba>=0.41.0->scanpy==1.9.1->file-process->sbioapputils==1.0.20) (0.39.1)\n",
      "Requirement already satisfied: setuptools in s:\\programdata\\anaconda3\\envs\\scvi_destvi_x\\lib\\site-packages (from numba>=0.41.0->scanpy==1.9.1->file-process->sbioapputils==1.0.20) (65.5.0)\n",
      "Requirement already satisfied: six>=1.5 in s:\\programdata\\anaconda3\\envs\\scvi_destvi_x\\lib\\site-packages (from python-dateutil>=2.7.3->pandas==1.2.5->file-process->sbioapputils==1.0.20) (1.16.0)\n",
      "Requirement already satisfied: threadpoolctl>=2.0.0 in s:\\programdata\\anaconda3\\envs\\scvi_destvi_x\\lib\\site-packages (from scikit-learn>=0.22->scanpy==1.9.1->file-process->sbioapputils==1.0.20) (3.1.0)\n",
      "Requirement already satisfied: pynndescent>=0.5 in s:\\programdata\\anaconda3\\envs\\scvi_destvi_x\\lib\\site-packages (from umap-learn>=0.3.10->scanpy==1.9.1->file-process->sbioapputils==1.0.20) (0.5.8)\n",
      "Requirement already satisfied: stdlib-list in s:\\programdata\\anaconda3\\envs\\scvi_destvi_x\\lib\\site-packages (from session-info->scanpy==1.9.1->file-process->sbioapputils==1.0.20) (0.8.0)\n",
      "Requirement already satisfied: colorama in s:\\programdata\\anaconda3\\envs\\scvi_destvi_x\\lib\\site-packages (from tqdm->scanpy==1.9.1->file-process->sbioapputils==1.0.20) (0.4.6)\n",
      "Requirement already satisfied: zipp>=0.5 in s:\\programdata\\anaconda3\\envs\\scvi_destvi_x\\lib\\site-packages (from importlib-metadata->numba>=0.41.0->scanpy==1.9.1->file-process->sbioapputils==1.0.20) (3.11.0)\n",
      "Building wheels for collected packages: sbioapputils\n",
      "  Building wheel for sbioapputils (pyproject.toml): started\n",
      "  Building wheel for sbioapputils (pyproject.toml): finished with status 'done'\n",
      "  Created wheel for sbioapputils: filename=sbioapputils-1.0.20-py3-none-any.whl size=28085 sha256=b1c87f79157dd7a9c7f371e0d084c65f9e4ec8c01fc0b506d80164f28642638b\n",
      "  Stored in directory: C:\\Users\\sionp\\AppData\\Local\\Temp\\pip-ephem-wheel-cache-0fycm6jc\\wheels\\00\\fb\\e3\\ec4b58f8b7a2d7231cf127d613da1093dbec06cf6fb1c22d21\n",
      "Successfully built sbioapputils\n",
      "Installing collected packages: sbioapputils\n",
      "  Attempting uninstall: sbioapputils\n",
      "    Found existing installation: sbioapputils 1.0.16\n",
      "    Uninstalling sbioapputils-1.0.16:\n",
      "      Successfully uninstalled sbioapputils-1.0.16\n",
      "Successfully installed sbioapputils-1.0.20\n"
     ]
    },
    {
     "name": "stderr",
     "output_type": "stream",
     "text": [
      "  Running command git clone --filter=blob:none --quiet https://github.com/Superbio-ai/app-sbioutils 'C:\\Users\\sionp\\AppData\\Local\\Temp\\pip-req-build-kcvwh9dh'\n"
     ]
    }
   ],
   "source": [
    "#run this cell if not installed yet\n",
    "#!conda install git\n",
    "!pip install --user git+https://github.com/Superbio-ai/app-sbioutils"
   ]
  },
  {
   "cell_type": "code",
   "execution_count": 6,
   "id": "723b869c",
   "metadata": {},
   "outputs": [
    {
     "name": "stdout",
     "output_type": "stream",
     "text": [
      "No template is available for this data modality. Some parts of the uploadOptions configuration may need to be specified manually\n",
      "No template is available for this data modality. Some parts of the uploadOptions configuration may need to be specified manually\n"
     ]
    },
    {
     "data": {
      "text/plain": [
       "'{\"resultsConfig\": {\"description\": \"No description provided\"}, \"settingsConfig\": {\"disabledFields\": [\"target\"], \"inputsRequireFiles\": [\"target\"], \"parameters\": {\"header\": \"Set Parameters\", \"inputs\": [{\"name\": \"target\", \"title\": \"target\", \"tooltip\": \"Column in data to use for classification\", \"type\": \"str\", \"default_value\": {\"label\": \"Condition\", \"value\": \"Condition\"}, \"input_type\": \"dropdown\", \"options\": []}, {\"name\": \"seed\", \"title\": \"seed\", \"tooltip\": \"Set consistently across experiments to generate same results (n.b. NN classification still has a random element)\", \"type\": \"integer\", \"default_value\": 1618, \"input_type\": \"slider\", \"increment\": 1, \"max_value\": 10000, \"max_value_included\": true, \"min_value\": 1, \"min_value_inclusive\": true}, {\"name\": \"num_samples\", \"title\": \"num_samples\", \"tooltip\": \"Synthetic samples are generated then used to augment the training data\", \"type\": \"integer\", \"default_value\": 1000, \"input_type\": \"slider\", \"increment\": 100, \"max_value\": 10000, \"max_value_included\": true, \"min_value\": 100, \"min_value_inclusive\": true}, {\"name\": \"n_epochs\", \"title\": \"n_epochs\", \"tooltip\": \"How many epochs to train the GAN for\", \"type\": \"integer\", \"default_value\": 100, \"input_type\": \"slider\", \"increment\": 10, \"max_value\": 10000, \"max_value_included\": true, \"min_value\": 10, \"min_value_inclusive\": true}, {\"default_value\": \"training.yml\", \"hidden\": true, \"input_type\": \"user_input\", \"name\": \"workflow_name\", \"title\": \"workflow_name\", \"tooltip\": \"workflow_name\", \"type\": \"text\"}]}, \"uploadOptions\": [{\"allowedFormats\": {\"fileExtensions\": [], \"title\": \"\", \"value\": \"\"}, \"disabled\": false, \"supportsPreview\": false, \"title\": \"EEG Training Data\", \"description\": \"Insert desccription here\", \"type\": \"Unknown\", \"uploadTypes\": [{\"title\": \"Local\", \"type\": \"local\"}, {\"title\": \"Remote\", \"type\": \"remote\"}], \"dataStructure\": \"\", \"name\": \"train_path\", \"demoDataDetails\": {\"description\": \"Example EEG Training Data\", \"filePath\": \"apps/eeg_gan/gansEEGTrainingData.csv\", \"fileName\": \"gansEEGTrainingData.csv\", \"fileSource\": [{\"title\": \"Data Source\", \"url\": \"https://github.com/AutoResearch/EEG-GAN/tree/main/data\"}]}}, {\"allowedFormats\": {\"fileExtensions\": [], \"title\": \"\", \"value\": \"\"}, \"disabled\": false, \"supportsPreview\": false, \"title\": \"EEG Validation Data\", \"description\": \"Insert desccription here\", \"type\": \"Unknown\", \"uploadTypes\": [{\"title\": \"Local\", \"type\": \"local\"}, {\"title\": \"Remote\", \"type\": \"remote\"}], \"dataStructure\": \"\", \"name\": \"test_path\", \"demoDataDetails\": {\"description\": \"Example EEG Validation Data\", \"filePath\": \"apps/eeg_gan/gansEEGValidationData.csv\", \"fileName\": \"gansEEGValidationData.csv\", \"fileSource\": [{\"title\": \"Data Source\", \"url\": \"https://github.com/AutoResearch/EEG-GAN/tree/main/data\"}]}}]}}'"
      ]
     },
     "execution_count": 6,
     "metadata": {},
     "output_type": "execute_result"
    }
   ],
   "source": [
    "from sbioapputils.app_runner.yaml_utils import define_settings_from_yaml\n",
    "workflow_loc = 'D:/git/appstore/eeg_gan_app/training.yml'\n",
    "define_settings_from_yaml(workflow_loc)"
   ]
  },
  {
   "cell_type": "code",
   "execution_count": 5,
   "id": "e350dd98",
   "metadata": {},
   "outputs": [
    {
     "name": "stdout",
     "output_type": "stream",
     "text": [
      "Generating payload from output config\n",
      "Results settings:\n",
      "{'images': [[{'file': 'outputs/roc_curve_training.png', 'title': 'Receiver Operating Characteristic (Training)'}], [{'file': 'outputs/pr_curve_training.png', 'title': 'Precision-Recall Curve (Training)'}]], 'tables': [[{'file': 'outputs/confusion_training.csv', 'title': 'Confusion Matrix for Training Data'}], [{'file': 'outputs/predictions_holdback.csv', 'title': 'Predictions (On Holdback Data)'}, {'file': 'outputs/predictions_training.csv', 'title': 'Fitted Values (On Training Data)'}], [{'file': 'outputs/metrics_training.csv', 'title': 'Model Performance on Training Data'}]], 'download': [{'file': 'outputs/predictions_holdback.csv', 'title': 'Predictions (On Holdback Data)'}]}\n",
      "Additional artifacts uploaded, but not displayed in visual results:\n",
      "['outputs/model.h5']\n"
     ]
    }
   ],
   "source": [
    "#this function depends on carousels being defined in the yaml file\n",
    "from sbioapputils.app_runner.yaml_utils import payload_from_yaml\n",
    "workflow_loc = 'D:/git/app-sbioutils/templates/workflow2.yml'\n",
    "results_for_payload, additional_artifacts = payload_from_yaml(workflow_loc, config_only = True)\n",
    "#if do not set config_only = True and results are not defined in yaml, then will attempt to read in files from the working directory\n",
    "print(\"Results settings:\")\n",
    "print(results_for_payload)\n",
    "print(\"Additional artifacts uploaded, but not displayed in visual results:\")\n",
    "print(additional_artifacts)"
   ]
  }
 ],
 "metadata": {
  "kernelspec": {
   "display_name": "Python 3 (ipykernel)",
   "language": "python",
   "name": "python3"
  },
  "language_info": {
   "codemirror_mode": {
    "name": "ipython",
    "version": 3
   },
   "file_extension": ".py",
   "mimetype": "text/x-python",
   "name": "python",
   "nbconvert_exporter": "python",
   "pygments_lexer": "ipython3",
   "version": "3.8.15"
  }
 },
 "nbformat": 4,
 "nbformat_minor": 5
}
